{
 "cells": [
  {
   "cell_type": "markdown",
   "id": "fb972b04",
   "metadata": {},
   "source": [
    "# Verification"
   ]
  },
  {
   "cell_type": "markdown",
   "id": "8cb575f8",
   "metadata": {},
   "source": [
    "## 1. Modules and Libraries"
   ]
  },
  {
   "cell_type": "code",
   "execution_count": 1,
   "id": "f76d613e",
   "metadata": {},
   "outputs": [],
   "source": [
    "# Import necessary libraries\n",
    "import pandas as pd\n",
    "import numpy as np\n",
    "\n",
    "from sklearn.model_selection import train_test_split\n",
    "from sklearn.neural_network import MLPClassifier\n",
    "\n",
    "from sklearn.metrics import accuracy_score\n",
    "from sklearn.metrics import precision_score\n",
    "from sklearn.metrics import recall_score\n",
    "from sklearn.metrics import f1_score\n",
    "\n",
    "import warnings\n",
    "warnings.filterwarnings('ignore')\n"
   ]
  },
  {
   "cell_type": "markdown",
   "id": "dc808e08",
   "metadata": {},
   "source": [
    "## 2. Load Data\n",
    "\n",
    "* Train data: ProMapEn train set\n",
    "* Test data: ProMapEn, ProMapCz, Amazon-Walmart, Amazon-Google test set"
   ]
  },
  {
   "cell_type": "code",
   "execution_count": 2,
   "id": "18f2dba8",
   "metadata": {},
   "outputs": [],
   "source": [
    "# load the train data\n",
    "promapen_train_data = pd.read_csv(\"features/ProMapEn/promapen_train_similarities.csv\")\n",
    "\n",
    "# load the test data\n",
    "# promapen test set is generated as part of this project\n",
    "# The other three test sets are used as provided by the author of the implementation paper\n",
    "promapen_test_data = pd.read_csv(\"features/ProMapEn/promapen_test_similarities.csv\")\n",
    "promapcz_test_data = pd.read_csv(\"datasets/ProMapCz/promapcz-test_data_similarities.csv\")\n",
    "am_wm_test_data = pd.read_csv(\"datasets/amazon-walmart/amazon_walmart-test_data_similarities.csv\")\n",
    "am_go_test_data = pd.read_csv(\"datasets/amazon-google/amazon_google-test_data_similarities.csv\")\n"
   ]
  },
  {
   "cell_type": "markdown",
   "id": "393a65c5",
   "metadata": {},
   "source": [
    "## 3. Split the data into features and labels"
   ]
  },
  {
   "cell_type": "code",
   "execution_count": 3,
   "id": "afc16012",
   "metadata": {},
   "outputs": [],
   "source": [
    "# Train features and labels\n",
    "promapen_X_train = promapen_train_data.iloc[:, :-1]\n",
    "promapen_y_train = promapen_train_data.iloc[:, -1]\n",
    "\n",
    "\n",
    "# Test features and labels\n",
    "promapen_X_test = promapen_test_data.iloc[:, :-1]\n",
    "promapen_y_test = promapen_test_data.iloc[:, -1]\n",
    "\n",
    "promapcz_X_test = promapcz_test_data.iloc[:, 2:-1]\n",
    "promapcz_y_test = promapcz_test_data.iloc[:, -1]\n",
    "\n",
    "am_wm_X_test = am_wm_test_data.iloc[:, 2:-1]\n",
    "am_wm_y_test = am_wm_test_data.iloc[:, -1]\n",
    "\n",
    "am_go_X_test = am_go_test_data.iloc[:, 2:-1]\n",
    "am_go_y_test = am_go_test_data.iloc[:, -1]\n"
   ]
  },
  {
   "cell_type": "code",
   "execution_count": 4,
   "id": "f6a28d98",
   "metadata": {},
   "outputs": [],
   "source": [
    "def prepare_test_data(dataframe, features):\n",
    "    \"\"\"\n",
    "    Renaming of columns and defaulting missing columns to zero\n",
    "    Args:\n",
    "        dataframe (pd.DataFrame): data\n",
    "        features (list): names of the columns\n",
    "    \n",
    "    Return:\n",
    "        dataframe: Ordered as per train fit\n",
    "    \"\"\"\n",
    "    \n",
    "    dataframe = dataframe.rename(columns = {\"specification_key_matches\": \"specification_key\",\n",
    "                                            \"specification_key_value_matches\": \"specification_key_value\"})\n",
    "    \n",
    "    df_cols = dataframe.columns\n",
    "    \n",
    "    for feature in features:\n",
    "        if feature not in df_cols:\n",
    "            dataframe[feature] = 0\n",
    "    \n",
    "    return dataframe[features]"
   ]
  },
  {
   "cell_type": "markdown",
   "id": "ab455ce9",
   "metadata": {},
   "source": [
    "## 4. Train the Model with Best Params\n",
    "\n",
    "* Model: MLP Classifier\n",
    "* Best Parameters:\n",
    "    * activation: tanh \n",
    "    * hidden_layer_sizes: (10, 50) \n",
    "    * learning_rate: constant\n",
    "    * learning_rate_init: 0.01 \n",
    "    * max_iter': 100 \n",
    "    * solver: adam"
   ]
  },
  {
   "cell_type": "code",
   "execution_count": 5,
   "id": "8a8d17f3",
   "metadata": {},
   "outputs": [
    {
     "data": {
      "text/html": [
       "<style>#sk-container-id-1 {color: black;}#sk-container-id-1 pre{padding: 0;}#sk-container-id-1 div.sk-toggleable {background-color: white;}#sk-container-id-1 label.sk-toggleable__label {cursor: pointer;display: block;width: 100%;margin-bottom: 0;padding: 0.3em;box-sizing: border-box;text-align: center;}#sk-container-id-1 label.sk-toggleable__label-arrow:before {content: \"▸\";float: left;margin-right: 0.25em;color: #696969;}#sk-container-id-1 label.sk-toggleable__label-arrow:hover:before {color: black;}#sk-container-id-1 div.sk-estimator:hover label.sk-toggleable__label-arrow:before {color: black;}#sk-container-id-1 div.sk-toggleable__content {max-height: 0;max-width: 0;overflow: hidden;text-align: left;background-color: #f0f8ff;}#sk-container-id-1 div.sk-toggleable__content pre {margin: 0.2em;color: black;border-radius: 0.25em;background-color: #f0f8ff;}#sk-container-id-1 input.sk-toggleable__control:checked~div.sk-toggleable__content {max-height: 200px;max-width: 100%;overflow: auto;}#sk-container-id-1 input.sk-toggleable__control:checked~label.sk-toggleable__label-arrow:before {content: \"▾\";}#sk-container-id-1 div.sk-estimator input.sk-toggleable__control:checked~label.sk-toggleable__label {background-color: #d4ebff;}#sk-container-id-1 div.sk-label input.sk-toggleable__control:checked~label.sk-toggleable__label {background-color: #d4ebff;}#sk-container-id-1 input.sk-hidden--visually {border: 0;clip: rect(1px 1px 1px 1px);clip: rect(1px, 1px, 1px, 1px);height: 1px;margin: -1px;overflow: hidden;padding: 0;position: absolute;width: 1px;}#sk-container-id-1 div.sk-estimator {font-family: monospace;background-color: #f0f8ff;border: 1px dotted black;border-radius: 0.25em;box-sizing: border-box;margin-bottom: 0.5em;}#sk-container-id-1 div.sk-estimator:hover {background-color: #d4ebff;}#sk-container-id-1 div.sk-parallel-item::after {content: \"\";width: 100%;border-bottom: 1px solid gray;flex-grow: 1;}#sk-container-id-1 div.sk-label:hover label.sk-toggleable__label {background-color: #d4ebff;}#sk-container-id-1 div.sk-serial::before {content: \"\";position: absolute;border-left: 1px solid gray;box-sizing: border-box;top: 0;bottom: 0;left: 50%;z-index: 0;}#sk-container-id-1 div.sk-serial {display: flex;flex-direction: column;align-items: center;background-color: white;padding-right: 0.2em;padding-left: 0.2em;position: relative;}#sk-container-id-1 div.sk-item {position: relative;z-index: 1;}#sk-container-id-1 div.sk-parallel {display: flex;align-items: stretch;justify-content: center;background-color: white;position: relative;}#sk-container-id-1 div.sk-item::before, #sk-container-id-1 div.sk-parallel-item::before {content: \"\";position: absolute;border-left: 1px solid gray;box-sizing: border-box;top: 0;bottom: 0;left: 50%;z-index: -1;}#sk-container-id-1 div.sk-parallel-item {display: flex;flex-direction: column;z-index: 1;position: relative;background-color: white;}#sk-container-id-1 div.sk-parallel-item:first-child::after {align-self: flex-end;width: 50%;}#sk-container-id-1 div.sk-parallel-item:last-child::after {align-self: flex-start;width: 50%;}#sk-container-id-1 div.sk-parallel-item:only-child::after {width: 0;}#sk-container-id-1 div.sk-dashed-wrapped {border: 1px dashed gray;margin: 0 0.4em 0.5em 0.4em;box-sizing: border-box;padding-bottom: 0.4em;background-color: white;}#sk-container-id-1 div.sk-label label {font-family: monospace;font-weight: bold;display: inline-block;line-height: 1.2em;}#sk-container-id-1 div.sk-label-container {text-align: center;}#sk-container-id-1 div.sk-container {/* jupyter's `normalize.less` sets `[hidden] { display: none; }` but bootstrap.min.css set `[hidden] { display: none !important; }` so we also need the `!important` here to be able to override the default hidden behavior on the sphinx rendered scikit-learn.org. See: https://github.com/scikit-learn/scikit-learn/issues/21755 */display: inline-block !important;position: relative;}#sk-container-id-1 div.sk-text-repr-fallback {display: none;}</style><div id=\"sk-container-id-1\" class=\"sk-top-container\"><div class=\"sk-text-repr-fallback\"><pre>MLPClassifier(activation=&#x27;tanh&#x27;, hidden_layer_sizes=(10, 50),\n",
       "              learning_rate_init=0.01, max_iter=100, random_state=42)</pre><b>In a Jupyter environment, please rerun this cell to show the HTML representation or trust the notebook. <br />On GitHub, the HTML representation is unable to render, please try loading this page with nbviewer.org.</b></div><div class=\"sk-container\" hidden><div class=\"sk-item\"><div class=\"sk-estimator sk-toggleable\"><input class=\"sk-toggleable__control sk-hidden--visually\" id=\"sk-estimator-id-1\" type=\"checkbox\" checked><label for=\"sk-estimator-id-1\" class=\"sk-toggleable__label sk-toggleable__label-arrow\">MLPClassifier</label><div class=\"sk-toggleable__content\"><pre>MLPClassifier(activation=&#x27;tanh&#x27;, hidden_layer_sizes=(10, 50),\n",
       "              learning_rate_init=0.01, max_iter=100, random_state=42)</pre></div></div></div></div></div>"
      ],
      "text/plain": [
       "MLPClassifier(activation='tanh', hidden_layer_sizes=(10, 50),\n",
       "              learning_rate_init=0.01, max_iter=100, random_state=42)"
      ]
     },
     "execution_count": 5,
     "metadata": {},
     "output_type": "execute_result"
    }
   ],
   "source": [
    "nn_best_params = {'activation': 'tanh', \n",
    "                  'hidden_layer_sizes': (10, 50), \n",
    "                  'learning_rate': 'constant', \n",
    "                  'learning_rate_init': 0.01, \n",
    "                  'max_iter': 100, \n",
    "                  'solver': 'adam'}\n",
    "\n",
    "\n",
    "nn_best_model = MLPClassifier(**nn_best_params, random_state=42)\n",
    "\n",
    "nn_best_model.fit(promapen_X_train, promapen_y_train)\n",
    "\n"
   ]
  },
  {
   "cell_type": "markdown",
   "id": "76f1b186",
   "metadata": {},
   "source": [
    "## 5.0 Test on Other Datasets"
   ]
  },
  {
   "cell_type": "markdown",
   "id": "1b618804",
   "metadata": {},
   "source": [
    "### 5.1 Train data: ProMapEn and Test data: ProMapEn"
   ]
  },
  {
   "cell_type": "code",
   "execution_count": 6,
   "id": "477f7ece",
   "metadata": {},
   "outputs": [
    {
     "name": "stdout",
     "output_type": "stream",
     "text": [
      "Train data: ProMapEn and Test data: ProMapEn\n",
      "Accuracy: 0.8006430868167203\n",
      "F1 Score: 0.6593406593406593\n",
      "Precision: 0.7407407407407407\n",
      "Recall: 0.594059405940594\n"
     ]
    }
   ],
   "source": [
    "y_pred = nn_best_model.predict(promapen_X_test)\n",
    "\n",
    "promapen_results = [accuracy_score(promapen_y_test, y_pred),\n",
    "                    f1_score(promapen_y_test, y_pred),\n",
    "                    precision_score(promapen_y_test, y_pred),\n",
    "                    recall_score(promapen_y_test, y_pred)]\n",
    "\n",
    "print(\"Train data: ProMapEn and Test data: ProMapEn\")\n",
    "print(f\"Accuracy: {promapen_results[0]}\")\n",
    "print(f\"F1 Score: {promapen_results[1]}\")\n",
    "print(f\"Precision: {promapen_results[2]}\")\n",
    "print(f\"Recall: {promapen_results[3]}\")"
   ]
  },
  {
   "cell_type": "markdown",
   "id": "fa61b466",
   "metadata": {},
   "source": [
    "### 5.2 Train data: ProMapEn and Test data: ProMapCz"
   ]
  },
  {
   "cell_type": "code",
   "execution_count": 7,
   "id": "2b9d1dbf",
   "metadata": {},
   "outputs": [
    {
     "name": "stdout",
     "output_type": "stream",
     "text": [
      "Train data: ProMapEn and Test data: ProMapCz\n",
      "Accuracy: 0.6421404682274248\n",
      "F1 Score: 0.5836575875486381\n",
      "Precision: 0.4716981132075472\n",
      "Recall: 0.7653061224489796\n"
     ]
    }
   ],
   "source": [
    "promapcz_X_test = prepare_test_data(promapcz_X_test, promapen_X_train.columns)\n",
    "\n",
    "y_pred = nn_best_model.predict(promapcz_X_test)\n",
    "\n",
    "promapcz_results = [accuracy_score(promapcz_y_test, y_pred),\n",
    "                    f1_score(promapcz_y_test, y_pred),\n",
    "                    precision_score(promapcz_y_test, y_pred),\n",
    "                    recall_score(promapcz_y_test, y_pred)]\n",
    "\n",
    "print(\"Train data: ProMapEn and Test data: ProMapCz\")\n",
    "print(f\"Accuracy: {promapcz_results[0]}\")\n",
    "print(f\"F1 Score: {promapcz_results[1]}\")\n",
    "print(f\"Precision: {promapcz_results[2]}\")\n",
    "print(f\"Recall: {promapcz_results[3]}\")\n"
   ]
  },
  {
   "cell_type": "markdown",
   "id": "6ccc4ac0",
   "metadata": {},
   "source": [
    "### 5.3 Train data: ProMapEn and Test data: Amazon-Walmart"
   ]
  },
  {
   "cell_type": "code",
   "execution_count": 8,
   "id": "e2095579",
   "metadata": {},
   "outputs": [
    {
     "name": "stdout",
     "output_type": "stream",
     "text": [
      "Train data: ProMapEn and Test data: Amazon Walmart\n",
      "A### 5.1 Train data: ProMapEn and Test data: ProMapEnccuracy: 0.7678855325914149\n",
      "F1 Score: 0.5350318471337578\n",
      "Precision: 0.9767441860465116\n",
      "Recall: 0.3684210526315789\n"
     ]
    }
   ],
   "source": [
    "am_wm_X_test = prepare_test_data(am_wm_X_test, promapen_X_train.columns)\n",
    "\n",
    "y_pred = nn_best_model.predict(am_wm_X_test)\n",
    "\n",
    "am_wm_results = [accuracy_score(am_wm_y_test, y_pred),\n",
    "                    f1_score(am_wm_y_test, y_pred),\n",
    "                    precision_score(am_wm_y_test, y_pred),\n",
    "                    recall_score(am_wm_y_test, y_pred)]\n",
    "\n",
    "print(\"Train data: ProMapEn and Test data: Amazon Walmart\")\n",
    "print(f\"A### 5.1 Train data: ProMapEn and Test data: ProMapEnccuracy: {am_wm_results[0]}\")\n",
    "print(f\"F1 Score: {am_wm_results[1]}\")\n",
    "print(f\"Precision: {am_wm_results[2]}\")\n",
    "print(f\"Recall: {am_wm_results[3]}\")\n"
   ]
  },
  {
   "cell_type": "markdown",
   "id": "a1337392",
   "metadata": {},
   "source": [
    "### 5.4 Train data: ProMapEn and Test data: Amazon-Google"
   ]
  },
  {
   "cell_type": "code",
   "execution_count": 9,
   "id": "935c32a8",
   "metadata": {},
   "outputs": [
    {
     "name": "stdout",
     "output_type": "stream",
     "text": [
      "Train data: ProMapEn and Test data: Amazon Google\n",
      "Accuracy: 0.7527047913446677\n",
      "F1 Score: 0.5604395604395604\n",
      "Precision: 1.0\n",
      "Recall: 0.3893129770992366\n"
     ]
    }
   ],
   "source": [
    "am_go_X_test = prepare_test_data(am_go_X_test, promapen_X_train.columns)\n",
    "\n",
    "y_pred = nn_best_model.predict(am_go_X_test)\n",
    "\n",
    "am_go_results = [accuracy_score(am_go_y_test, y_pred),\n",
    "                    f1_score(am_go_y_test, y_pred),\n",
    "                    precision_score(am_go_y_test, y_pred),\n",
    "                    recall_score(am_go_y_test, y_pred)]\n",
    "\n",
    "print(\"Train data: ProMapEn and Test data: Amazon Google\")\n",
    "print(f\"Accuracy: {am_go_results[0]}\")\n",
    "print(f\"F1 Score: {am_go_results[1]}\")\n",
    "print(f\"Precision: {am_go_results[2]}\")\n",
    "print(f\"Recall: {am_go_results[3]}\")\n"
   ]
  },
  {
   "cell_type": "markdown",
   "id": "521178bf",
   "metadata": {},
   "source": [
    "### 5.5 Result Analysis "
   ]
  },
  {
   "cell_type": "code",
   "execution_count": 10,
   "id": "8d81e2c4",
   "metadata": {},
   "outputs": [
    {
     "data": {
      "text/html": [
       "<div>\n",
       "<style scoped>\n",
       "    .dataframe tbody tr th:only-of-type {\n",
       "        vertical-align: middle;\n",
       "    }\n",
       "\n",
       "    .dataframe tbody tr th {\n",
       "        vertical-align: top;\n",
       "    }\n",
       "\n",
       "    .dataframe thead th {\n",
       "        text-align: right;\n",
       "    }\n",
       "</style>\n",
       "<table border=\"1\" class=\"dataframe\">\n",
       "  <thead>\n",
       "    <tr style=\"text-align: right;\">\n",
       "      <th></th>\n",
       "      <th>F1 Score</th>\n",
       "      <th>Precision</th>\n",
       "      <th>Recall</th>\n",
       "      <th>Accuracy</th>\n",
       "    </tr>\n",
       "  </thead>\n",
       "  <tbody>\n",
       "    <tr>\n",
       "      <th>ProMapEn Test</th>\n",
       "      <td>0.6593</td>\n",
       "      <td>0.7407</td>\n",
       "      <td>0.5941</td>\n",
       "      <td>0.8006</td>\n",
       "    </tr>\n",
       "    <tr>\n",
       "      <th>ProMapCz Test</th>\n",
       "      <td>0.5837</td>\n",
       "      <td>0.4717</td>\n",
       "      <td>0.7653</td>\n",
       "      <td>0.6421</td>\n",
       "    </tr>\n",
       "    <tr>\n",
       "      <th>Am-Wm Test</th>\n",
       "      <td>0.5350</td>\n",
       "      <td>0.9767</td>\n",
       "      <td>0.3684</td>\n",
       "      <td>0.7679</td>\n",
       "    </tr>\n",
       "    <tr>\n",
       "      <th>Am-Go Test</th>\n",
       "      <td>0.5604</td>\n",
       "      <td>1.0000</td>\n",
       "      <td>0.3893</td>\n",
       "      <td>0.7527</td>\n",
       "    </tr>\n",
       "  </tbody>\n",
       "</table>\n",
       "</div>"
      ],
      "text/plain": [
       "               F1 Score  Precision  Recall  Accuracy\n",
       "ProMapEn Test    0.6593     0.7407  0.5941    0.8006\n",
       "ProMapCz Test    0.5837     0.4717  0.7653    0.6421\n",
       "Am-Wm Test       0.5350     0.9767  0.3684    0.7679\n",
       "Am-Go Test       0.5604     1.0000  0.3893    0.7527"
      ]
     },
     "execution_count": 10,
     "metadata": {},
     "output_type": "execute_result"
    }
   ],
   "source": [
    "test_results = pd.DataFrame([promapen_results, promapcz_results, am_wm_results, am_go_results], \n",
    "                            columns=[\"Accuracy\", \"F1 Score\", \"Precision\", \"Recall\"], \n",
    "                            index=[\"ProMapEn Test\", \"ProMapCz Test\", \"Am-Wm Test\", \"Am-Go Test\"])\n",
    "test_results = test_results.round({\"Accuracy\": 4, \"F1 Score\": 4, \"Recall\":4, \"Precision\": 4})\n",
    "test_results[[\"F1 Score\", \"Precision\", \"Recall\", \"Accuracy\"]]"
   ]
  },
  {
   "cell_type": "code",
   "execution_count": 11,
   "id": "0cd7be18",
   "metadata": {},
   "outputs": [],
   "source": [
    "test_results.to_csv(\"results/all-test-data.csv\", header=True, index=True)"
   ]
  },
  {
   "cell_type": "code",
   "execution_count": null,
   "id": "6c924a15",
   "metadata": {},
   "outputs": [],
   "source": []
  }
 ],
 "metadata": {
  "kernelspec": {
   "display_name": "Python 3 (ipykernel)",
   "language": "python",
   "name": "python3"
  },
  "language_info": {
   "codemirror_mode": {
    "name": "ipython",
    "version": 3
   },
   "file_extension": ".py",
   "mimetype": "text/x-python",
   "name": "python",
   "nbconvert_exporter": "python",
   "pygments_lexer": "ipython3",
   "version": "3.11.5"
  }
 },
 "nbformat": 4,
 "nbformat_minor": 5
}
