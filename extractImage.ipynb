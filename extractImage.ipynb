{
 "cells": [
  {
   "cell_type": "code",
   "execution_count": 1,
   "metadata": {},
   "outputs": [],
   "source": [
    "import pandas as pd\n",
    "\n",
    "df = pd.read_csv(\"D:\\\\567Project\\\\promapcz-train_data.csv\")"
   ]
  },
  {
   "cell_type": "code",
   "execution_count": 35,
   "metadata": {},
   "outputs": [],
   "source": [
    "import requests\n",
    "\n",
    "def download_image(name,url):\n",
    "    img_data = requests.get(url).content\n",
    "    with open(name, 'wb') as handler:\n",
    "        handler.write(img_data)"
   ]
  },
  {
   "cell_type": "code",
   "execution_count": 44,
   "metadata": {},
   "outputs": [
    {
     "data": {
      "text/plain": [
       "'[\"https://i.cdn.nrholding.net/74412924/550/550\", \"https://i.cdn.nrholding.net/74412924/1000/1000\", \"https://i.cdn.nrholding.net/56371169/550/550\", \"https://i.cdn.nrholding.net/56371169/1000/1000\", \"https://i.cdn.nrholding.net/58640377/550/550\", \"https://i.cdn.nrholding.net/58640377/1000/1000\", \"https://i.cdn.nrholding.net/69834084/550/550\", \"https://i.cdn.nrholding.net/69834084/1000/1000\", \"https://i.cdn.nrholding.net/72821447/550/550\", \"https://i.cdn.nrholding.net/72821447/1000/1000\", \"https://i.cdn.nrholding.net/72821472/550/550\", \"https://i.cdn.nrholding.net/72821472/1000/1000\", \"https://i.cdn.nrholding.net/72926669/550/550\", \"https://i.cdn.nrholding.net/72926669/1000/1000\", \"https://i.cdn.nrholding.net/74958920/550/550\", \"https://i.cdn.nrholding.net/74958920/1000/1000\", \"https://i.cdn.nrholding.net/74959057/550/550\", \"https://i.cdn.nrholding.net/74959057/1000/1000\", \"https://i.cdn.nrholding.net/74984659/550/550\", \"https://i.cdn.nrholding.net/74984659/1000/1000\", \"https://i.cdn.nrholding.net/74997537/550/550\", \"https://i.cdn.nrholding.net/74997537/1000/1000\"]'"
      ]
     },
     "execution_count": 44,
     "metadata": {},
     "output_type": "execute_result"
    }
   ],
   "source": [
    "df['image_url2'][0]"
   ]
  },
  {
   "cell_type": "code",
   "execution_count": 45,
   "metadata": {},
   "outputs": [
    {
     "ename": "OSError",
     "evalue": "[Errno 22] Invalid argument: 'images/LIEBHERR CU 231\\n+ 10 let záruka na kompresor po registraci + 3 roky servisu po registraci0'",
     "output_type": "error",
     "traceback": [
      "\u001b[1;31m---------------------------------------------------------------------------\u001b[0m",
      "\u001b[1;31mOSError\u001b[0m                                   Traceback (most recent call last)",
      "\u001b[1;32md:\\567Project\\extractImage.ipynb Cell 4\u001b[0m line \u001b[0;36m8\n\u001b[0;32m      <a href='vscode-notebook-cell:/d%3A/567Project/extractImage.ipynb#W6sZmlsZQ%3D%3D?line=4'>5</a>\u001b[0m image1L \u001b[39m=\u001b[39m ast\u001b[39m.\u001b[39mliteral_eval(df[\u001b[39m'\u001b[39m\u001b[39mimage_url1\u001b[39m\u001b[39m'\u001b[39m][i])\n\u001b[0;32m      <a href='vscode-notebook-cell:/d%3A/567Project/extractImage.ipynb#W6sZmlsZQ%3D%3D?line=6'>7</a>\u001b[0m \u001b[39mfor\u001b[39;00m x \u001b[39min\u001b[39;00m \u001b[39mrange\u001b[39m(\u001b[39mlen\u001b[39m(image1L)):\n\u001b[1;32m----> <a href='vscode-notebook-cell:/d%3A/567Project/extractImage.ipynb#W6sZmlsZQ%3D%3D?line=7'>8</a>\u001b[0m     download_image(\u001b[39m\"\u001b[39;49m\u001b[39mimages/\u001b[39;49m\u001b[39m\"\u001b[39;49m\u001b[39m+\u001b[39;49mname1\u001b[39m+\u001b[39;49m\u001b[39mstr\u001b[39;49m(x),image1L[x])\n\u001b[0;32m     <a href='vscode-notebook-cell:/d%3A/567Project/extractImage.ipynb#W6sZmlsZQ%3D%3D?line=9'>10</a>\u001b[0m name2 \u001b[39m=\u001b[39m df[\u001b[39m'\u001b[39m\u001b[39mname2\u001b[39m\u001b[39m'\u001b[39m][i]\n\u001b[0;32m     <a href='vscode-notebook-cell:/d%3A/567Project/extractImage.ipynb#W6sZmlsZQ%3D%3D?line=10'>11</a>\u001b[0m image2L \u001b[39m=\u001b[39m ast\u001b[39m.\u001b[39mliteral_eval(df[\u001b[39m'\u001b[39m\u001b[39mimage_url2\u001b[39m\u001b[39m'\u001b[39m][i])\n",
      "\u001b[1;32md:\\567Project\\extractImage.ipynb Cell 4\u001b[0m line \u001b[0;36m5\n\u001b[0;32m      <a href='vscode-notebook-cell:/d%3A/567Project/extractImage.ipynb#W6sZmlsZQ%3D%3D?line=2'>3</a>\u001b[0m \u001b[39mdef\u001b[39;00m \u001b[39mdownload_image\u001b[39m(name,url):\n\u001b[0;32m      <a href='vscode-notebook-cell:/d%3A/567Project/extractImage.ipynb#W6sZmlsZQ%3D%3D?line=3'>4</a>\u001b[0m     img_data \u001b[39m=\u001b[39m requests\u001b[39m.\u001b[39mget(url)\u001b[39m.\u001b[39mcontent\n\u001b[1;32m----> <a href='vscode-notebook-cell:/d%3A/567Project/extractImage.ipynb#W6sZmlsZQ%3D%3D?line=4'>5</a>\u001b[0m     \u001b[39mwith\u001b[39;00m \u001b[39mopen\u001b[39;49m(name, \u001b[39m'\u001b[39;49m\u001b[39mwb\u001b[39;49m\u001b[39m'\u001b[39;49m) \u001b[39mas\u001b[39;00m handler:\n\u001b[0;32m      <a href='vscode-notebook-cell:/d%3A/567Project/extractImage.ipynb#W6sZmlsZQ%3D%3D?line=5'>6</a>\u001b[0m         handler\u001b[39m.\u001b[39mwrite(img_data)\n",
      "File \u001b[1;32md:\\.virtualenvs\\567Project-7k1jFqDZ\\lib\\site-packages\\IPython\\core\\interactiveshell.py:308\u001b[0m, in \u001b[0;36m_modified_open\u001b[1;34m(file, *args, **kwargs)\u001b[0m\n\u001b[0;32m    301\u001b[0m \u001b[39mif\u001b[39;00m file \u001b[39min\u001b[39;00m {\u001b[39m0\u001b[39m, \u001b[39m1\u001b[39m, \u001b[39m2\u001b[39m}:\n\u001b[0;32m    302\u001b[0m     \u001b[39mraise\u001b[39;00m \u001b[39mValueError\u001b[39;00m(\n\u001b[0;32m    303\u001b[0m         \u001b[39mf\u001b[39m\u001b[39m\"\u001b[39m\u001b[39mIPython won\u001b[39m\u001b[39m'\u001b[39m\u001b[39mt let you open fd=\u001b[39m\u001b[39m{\u001b[39;00mfile\u001b[39m}\u001b[39;00m\u001b[39m by default \u001b[39m\u001b[39m\"\u001b[39m\n\u001b[0;32m    304\u001b[0m         \u001b[39m\"\u001b[39m\u001b[39mas it is likely to crash IPython. If you know what you are doing, \u001b[39m\u001b[39m\"\u001b[39m\n\u001b[0;32m    305\u001b[0m         \u001b[39m\"\u001b[39m\u001b[39myou can use builtins\u001b[39m\u001b[39m'\u001b[39m\u001b[39m open.\u001b[39m\u001b[39m\"\u001b[39m\n\u001b[0;32m    306\u001b[0m     )\n\u001b[1;32m--> 308\u001b[0m \u001b[39mreturn\u001b[39;00m io_open(file, \u001b[39m*\u001b[39margs, \u001b[39m*\u001b[39m\u001b[39m*\u001b[39mkwargs)\n",
      "\u001b[1;31mOSError\u001b[0m: [Errno 22] Invalid argument: 'images/LIEBHERR CU 231\\n+ 10 let záruka na kompresor po registraci + 3 roky servisu po registraci0'"
     ]
    }
   ],
   "source": [
    "import ast\n",
    "\n",
    "for i in range(len(df)):\n",
    "    name1 = df['name1'][i]\n",
    "    image1L = ast.literal_eval(df['image_url1'][i])\n",
    "    \n",
    "    for x in range(len(image1L)):\n",
    "        download_image(\"images/\"+name1+str(x),image1L[x])\n",
    "    \n",
    "    name2 = df['name2'][i]\n",
    "    image2L = ast.literal_eval(df['image_url2'][i])\n",
    "    \n",
    "    for x in range(len(image2L)):\n",
    "        download_image(\"images/\"+name2+str(x),image2L[x])"
   ]
  },
  {
   "cell_type": "code",
   "execution_count": 34,
   "metadata": {},
   "outputs": [],
   "source": []
  }
 ],
 "metadata": {
  "kernelspec": {
   "display_name": "567Project-7k1jFqDZ",
   "language": "python",
   "name": "python3"
  },
  "language_info": {
   "codemirror_mode": {
    "name": "ipython",
    "version": 3
   },
   "file_extension": ".py",
   "mimetype": "text/x-python",
   "name": "python",
   "nbconvert_exporter": "python",
   "pygments_lexer": "ipython3",
   "version": "3.9.2"
  }
 },
 "nbformat": 4,
 "nbformat_minor": 2
}
